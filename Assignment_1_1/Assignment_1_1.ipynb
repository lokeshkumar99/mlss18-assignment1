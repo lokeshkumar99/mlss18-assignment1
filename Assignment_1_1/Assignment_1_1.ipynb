{
 "cells": [
  {
   "cell_type": "code",
   "execution_count": 2,
   "metadata": {},
   "outputs": [],
   "source": [
    "import pickle \n",
    "import numpy as np\n",
    "with open('array.pickle','rb') as p:\n",
    "    arr=pickle.load(p)"
   ]
  },
  {
   "cell_type": "code",
   "execution_count": 3,
   "metadata": {},
   "outputs": [],
   "source": [
    "x=np.resize(arr,(20,50))\n"
   ]
  },
  {
   "cell_type": "code",
   "execution_count": 4,
   "metadata": {},
   "outputs": [],
   "source": [
    "x_transpose=x.T"
   ]
  },
  {
   "cell_type": "code",
   "execution_count": 16,
   "metadata": {},
   "outputs": [],
   "source": [
    "dp=x.dot(x_transpose)"
   ]
  },
  {
   "cell_type": "code",
   "execution_count": 15,
   "metadata": {},
   "outputs": [
    {
     "name": "stdout",
     "output_type": "stream",
     "text": [
      "[2365442.27809957 3002112.3995789  2779184.43777157 2477210.32440039\n",
      " 2627759.87742664 2220803.79590608 2429710.18283941 2508044.22721641\n",
      " 2459318.36600334 2325031.07739166 2896081.10050922 2762062.07921721\n",
      " 2660473.74582437 2141287.18395127 2694809.41626161 2254508.32241154\n",
      " 2480788.07237605 2727792.51946167 2586794.20382212 2681242.33967484]\n"
     ]
    }
   ],
   "source": [
    "q=np.sum(dp,axis=1)\n",
    "print(q)"
   ]
  },
  {
   "cell_type": "code",
   "execution_count": 11,
   "metadata": {},
   "outputs": [
    {
     "name": "stdout",
     "output_type": "stream",
     "text": [
      "[1537.99944021 1732.66049749 1667.08861125 1573.91560269 1621.03666751\n",
      " 1490.23615441 1558.75276514 1583.68059507 1568.2214021  1524.80525884\n",
      " 1701.7876191  1661.94526962 1631.09587266 1463.31376811 1641.58746836\n",
      " 1501.50202211 1575.05176816 1651.60301509 1608.35139314 1637.44995028]\n"
     ]
    }
   ],
   "source": [
    "r=np.sqrt(q)\n",
    "print(r)"
   ]
  },
  {
   "cell_type": "code",
   "execution_count": 12,
   "metadata": {},
   "outputs": [
    {
     "data": {
      "text/plain": [
       "array([-0.98203514, -0.99739839,  0.88988262,  0.0223149 , -0.02513909,\n",
       "        0.90063852,  0.49931585,  0.31257026, -0.53682381, -0.90561256,\n",
       "       -0.81665967, -0.04274285, -0.57228164, -0.61973772,  0.99446036,\n",
       "       -0.17830768, -0.89740342, -0.76736444, -0.14354788, -0.62893124])"
      ]
     },
     "execution_count": 12,
     "metadata": {},
     "output_type": "execute_result"
    }
   ],
   "source": [
    "np.sin(r)"
   ]
  },
  {
   "cell_type": "code",
   "execution_count": null,
   "metadata": {},
   "outputs": [],
   "source": [
    "VARIABLE_NAME = x\n",
    "with open('submission.pickle', 'wb') as p:\n",
    "    pickle.dump(VARIABLE_NAME, p)"
   ]
  }
 ],
 "metadata": {
  "kernelspec": {
   "display_name": "Python 3",
   "language": "python",
   "name": "python3"
  },
  "language_info": {
   "codemirror_mode": {
    "name": "ipython",
    "version": 3
   },
   "file_extension": ".py",
   "mimetype": "text/x-python",
   "name": "python",
   "nbconvert_exporter": "python",
   "pygments_lexer": "ipython3",
   "version": "3.6.5"
  }
 },
 "nbformat": 4,
 "nbformat_minor": 2
}
